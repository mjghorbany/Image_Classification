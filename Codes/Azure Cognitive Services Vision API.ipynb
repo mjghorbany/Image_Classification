{
 "cells": [
  {
   "cell_type": "code",
   "execution_count": 1,
   "metadata": {},
   "outputs": [
    {
     "ename": "SyntaxError",
     "evalue": "invalid syntax (<ipython-input-1-1a0bb0cdf557>, line 6)",
     "output_type": "error",
     "traceback": [
      "\u001b[0;36m  File \u001b[0;32m\"<ipython-input-1-1a0bb0cdf557>\"\u001b[0;36m, line \u001b[0;32m6\u001b[0m\n\u001b[0;31m    subscription_key = <KEY>\u001b[0m\n\u001b[0m                       ^\u001b[0m\n\u001b[0;31mSyntaxError\u001b[0m\u001b[0;31m:\u001b[0m invalid syntax\n"
     ]
    }
   ],
   "source": [
    "# Import required libraries for request headers and json extraction.\n",
    "import http.client, urllib.request, urllib.parse, urllib.error, base64, json\n",
    "\n",
    " \n",
    "# Replace the subscription_key string value with your valid subscription key.\n",
    "subscription_key = <KEY>\n",
    "\n",
    " \n",
    "\n",
    "# Replace to match your region.\n",
    "uri_base = 'https://westus.api.cognitive.microsoft.com/'\n",
    "\n",
    " \n",
    "\n",
    "headers = {\n",
    "    # Request headers.\n",
    "    'Content-Type': 'application/json',\n",
    "    'Ocp-Apim-Subscription-Key': subscription_key,\n",
    "}\n",
    "\n",
    " \n",
    "\n",
    "params = urllib.parse.urlencode({\n",
    "\n",
    "    # Request parameters. All of them are optional.\n",
    "\n",
    "    'visualFeatures': 'Description,Color,Tags',\n",
    "\n",
    "    'language': 'en',\n",
    "\n",
    "})\n",
    "\n",
    "body = \"{'url':'http://drive.google.com/uc?id=11xg5AzRujs339iHF5nRugPNnakjOh6qN'}\"\n",
    "\n",
    " \n",
    "\n",
    "try:\n",
    "\n",
    "    # Execute the REST API call and get the response.\n",
    "\n",
    "    conn = http.client.HTTPSConnection('westus.api.cognitive.microsoft.com')\n",
    "\n",
    "    conn.request(\"POST\", \"/vision/v1.0/analyze?%s\" % params, body, headers)\n",
    "\n",
    "    response = conn.getresponse()\n",
    "\n",
    "    data = response.read()\n",
    "\n",
    " \n",
    "\n",
    "    # 'data' contains the JSON data. The following formats the JSON data for display.\n",
    "\n",
    "    parsed = json.loads(data.decode())\n",
    "\n",
    "    print (\"Response:\")\n",
    "\n",
    "    print (json.dumps(parsed, sort_keys=True, indent=2))\n",
    "\n",
    "    conn.close()\n",
    "\n",
    " \n",
    "\n",
    "except Exception as e:\n",
    "\n",
    "    print('Error:')\n",
    "\n",
    "    print(e)"
   ]
  },
  {
   "cell_type": "code",
   "execution_count": null,
   "metadata": {},
   "outputs": [],
   "source": []
  },
  {
   "cell_type": "code",
   "execution_count": null,
   "metadata": {},
   "outputs": [],
   "source": []
  },
  {
   "cell_type": "code",
   "execution_count": null,
   "metadata": {},
   "outputs": [],
   "source": []
  }
 ],
 "metadata": {
  "kernelspec": {
   "display_name": "Python 3",
   "language": "python",
   "name": "python3"
  },
  "language_info": {
   "codemirror_mode": {
    "name": "ipython",
    "version": 3
   },
   "file_extension": ".py",
   "mimetype": "text/x-python",
   "name": "python",
   "nbconvert_exporter": "python",
   "pygments_lexer": "ipython3",
   "version": "3.6.8"
  }
 },
 "nbformat": 4,
 "nbformat_minor": 2
}
